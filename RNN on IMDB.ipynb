{
  "nbformat": 4,
  "nbformat_minor": 0,
  "metadata": {
    "colab": {
      "provenance": []
    },
    "kernelspec": {
      "name": "python3",
      "display_name": "Python 3"
    },
    "language_info": {
      "name": "python"
    }
  },
  "cells": [
    {
      "cell_type": "markdown",
      "source": [
        "IMDB Simple RNN"
      ],
      "metadata": {
        "id": "_p2vxa1E5z1q"
      }
    },
    {
      "cell_type": "code",
      "execution_count": null,
      "metadata": {
        "id": "PMcJzlNf3yFw"
      },
      "outputs": [],
      "source": [
        "import numpy as np \n",
        "import pandas as pd"
      ]
    },
    {
      "cell_type": "code",
      "source": [
        "import seaborn as sns\n",
        "import matplotlib.pyplot as plt\n",
        "%matplotlib inline"
      ],
      "metadata": {
        "id": "2qRpzEzK5gRc"
      },
      "execution_count": null,
      "outputs": []
    },
    {
      "cell_type": "code",
      "source": [
        "from scipy import stats\n",
        "from keras.datasets import imdb\n",
        "from keras.preprocessing.sequence import pad_sequences \n",
        "from keras.models import Sequential\n",
        "from keras.layers.embeddings import Embedding\n",
        "from keras.layers import SimpleRNN,Dense,Activation"
      ],
      "metadata": {
        "id": "2o5bnY525qNk"
      },
      "execution_count": null,
      "outputs": []
    },
    {
      "cell_type": "markdown",
      "source": [
        "***Dataset***"
      ],
      "metadata": {
        "id": "J0dlk3Sr5vH_"
      }
    },
    {
      "cell_type": "code",
      "source": [
        "(X_train,Y_train),(X_test,Y_test) = imdb.load_data(path=\"imdb.npz\",num_words=None,skip_top=0,maxlen=None,start_char=1,seed=13,oov_char=2,index_from=3)"
      ],
      "metadata": {
        "colab": {
          "base_uri": "https://localhost:8080/"
        },
        "id": "mvCKfYiH55mR",
        "outputId": "3da4d0bd-c70d-43dc-e4f3-b7fa180d81c1"
      },
      "execution_count": null,
      "outputs": [
        {
          "output_type": "stream",
          "name": "stdout",
          "text": [
            "Downloading data from https://storage.googleapis.com/tensorflow/tf-keras-datasets/imdb.npz\n",
            "17465344/17464789 [==============================] - 0s 0us/step\n",
            "17473536/17464789 [==============================] - 0s 0us/step\n"
          ]
        }
      ]
    },
    {
      "cell_type": "code",
      "source": [
        "print(\"Type: \", type(X_train))\n",
        "print(\"Type: \", type(Y_train))"
      ],
      "metadata": {
        "colab": {
          "base_uri": "https://localhost:8080/"
        },
        "id": "Efp5lcEZ6Eb6",
        "outputId": "14fca142-e921-4859-ab70-e7efee3a8f41"
      },
      "execution_count": null,
      "outputs": [
        {
          "output_type": "stream",
          "name": "stdout",
          "text": [
            "Type:  <class 'numpy.ndarray'>\n",
            "Type:  <class 'numpy.ndarray'>\n"
          ]
        }
      ]
    },
    {
      "cell_type": "code",
      "source": [
        "print(\"X train shape: \",X_train.shape)\n",
        "print(\"Y train shape: \",Y_train.shape)"
      ],
      "metadata": {
        "colab": {
          "base_uri": "https://localhost:8080/"
        },
        "id": "jcDkx-1z6KN0",
        "outputId": "db9170ca-0e9e-49d9-9f96-15d70e5f32e3"
      },
      "execution_count": null,
      "outputs": [
        {
          "output_type": "stream",
          "name": "stdout",
          "text": [
            "X train shape:  (25000,)\n",
            "Y train shape:  (25000,)\n"
          ]
        }
      ]
    },
    {
      "cell_type": "markdown",
      "source": [
        "***Exploratory Data Analysis(EDA)***"
      ],
      "metadata": {
        "id": "kWS1jkWX6Tja"
      }
    },
    {
      "cell_type": "code",
      "source": [
        "print(\"Y train values: \",np.unique(Y_train))\n",
        "print(\"Y test values: \",np.unique(Y_test))"
      ],
      "metadata": {
        "colab": {
          "base_uri": "https://localhost:8080/"
        },
        "id": "jJyYQUtX6co-",
        "outputId": "e03762a2-121d-4258-967e-c621856c18ba"
      },
      "execution_count": null,
      "outputs": [
        {
          "output_type": "stream",
          "name": "stdout",
          "text": [
            "Y train values:  [0 1]\n",
            "Y test values:  [0 1]\n"
          ]
        }
      ]
    },
    {
      "cell_type": "code",
      "source": [
        "unique,counts = np.unique(Y_train,return_counts=True)\n",
        "print(\"Y train distribution: \", dict(zip(unique,counts)))"
      ],
      "metadata": {
        "colab": {
          "base_uri": "https://localhost:8080/"
        },
        "id": "S026i2tX6hTQ",
        "outputId": "4de98931-2e09-475e-9539-21cb25f8e178"
      },
      "execution_count": null,
      "outputs": [
        {
          "output_type": "stream",
          "name": "stdout",
          "text": [
            "Y train distribution:  {0: 12500, 1: 12500}\n"
          ]
        }
      ]
    },
    {
      "cell_type": "code",
      "source": [
        "unique,counts = np.unique(Y_test,return_counts=True)\n",
        "print(\"Y test distribution: \", dict(zip(unique,counts)))"
      ],
      "metadata": {
        "colab": {
          "base_uri": "https://localhost:8080/"
        },
        "id": "t2Fr9Ahh6oJL",
        "outputId": "d3e99e0b-d726-4e16-a759-bffb95a56e96"
      },
      "execution_count": null,
      "outputs": [
        {
          "output_type": "stream",
          "name": "stdout",
          "text": [
            "Y test distribution:  {0: 12500, 1: 12500}\n"
          ]
        }
      ]
    },
    {
      "cell_type": "code",
      "source": [
        "plt.figure();\n",
        "sns.countplot(Y_train);\n",
        "plt.xlabel(\"Classes\");\n",
        "plt.ylabel(\"Frequency\");\n",
        "plt.title(\"Y Train\");"
      ],
      "metadata": {
        "colab": {
          "base_uri": "https://localhost:8080/",
          "height": 350
        },
        "id": "3Cq-uZeL6rk4",
        "outputId": "e9a4923c-eba9-4c88-9dc5-4fe05127ed48"
      },
      "execution_count": null,
      "outputs": [
        {
          "output_type": "stream",
          "name": "stderr",
          "text": [
            "/usr/local/lib/python3.7/dist-packages/seaborn/_decorators.py:43: FutureWarning: Pass the following variable as a keyword arg: x. From version 0.12, the only valid positional argument will be `data`, and passing other arguments without an explicit keyword will result in an error or misinterpretation.\n",
            "  FutureWarning\n"
          ]
        },
        {
          "output_type": "display_data",
          "data": {
            "text/plain": [
              "<Figure size 432x288 with 1 Axes>"
            ],
            "image/png": "[encoded data removed]"
          },
          "metadata": {
            "needs_background": "light"
          }
        }
      ]
    },
    {
      "cell_type": "code",
      "source": [
        "plt.figure();\n",
        "sns.countplot(Y_test);\n",
        "plt.xlabel(\"Classes\");\n",
        "plt.ylabel(\"Frequency\");\n",
        "plt.title(\"Y Test\");"
      ],
      "metadata": {
        "colab": {
          "base_uri": "https://localhost:8080/",
          "height": 350
        },
        "id": "OLOjFsOJ6twL",
        "outputId": "1ea49d3d-516f-47e7-9d0c-dfacde8d2a32"
      },
      "execution_count": null,
      "outputs": [
        {
          "output_type": "stream",
          "name": "stderr",
          "text": [
            "/usr/local/lib/python3.7/dist-packages/seaborn/_decorators.py:43: FutureWarning: Pass the following variable as a keyword arg: x. From version 0.12, the only valid positional argument will be `data`, and passing other arguments without an explicit keyword will result in an error or misinterpretation.\n",
            "  FutureWarning\n"
          ]
        },
        {
          "output_type": "display_data",
          "data": {
            "text/plain": [
              "<Figure size 432x288 with 1 Axes>"
            ],
            "image/png": "[encoded data removed]"
          },
          "metadata": {
            "needs_background": "light"
          }
        }
      ]
    },
    {
      "cell_type": "code",
      "source": [
        "print(X_train[0])"
      ],
      "metadata": {
        "colab": {
          "base_uri": "https://localhost:8080/"
        },
        "id": "RAokpYBR60UR",
        "outputId": "f47d4074-e87b-4620-89cf-ff5743156132"
      },
      "execution_count": null,
      "outputs": [
        {
          "output_type": "stream",
          "name": "stdout",
          "text": [
            "[1, 608, 13, 6467, 14, 22, 13, 80, 1109, 14, 20, 584, 18, 231, 72, 141, 6, 783, 254, 189, 7060, 13, 100, 115, 106, 14, 20, 584, 207, 82, 557, 111, 111, 537, 7, 4, 962, 12, 69, 11, 45, 204, 766, 33, 4, 8334, 23, 94, 797, 1048, 991, 527, 1987, 538, 2629, 4, 4518, 125, 72, 449, 8295, 68, 3385, 2500, 93, 14, 1190, 22, 13, 119, 12, 13, 197, 4, 226, 22, 16, 542, 5, 221, 14, 20, 9, 38, 629, 14, 9, 4, 6128, 20, 13, 28, 126, 110, 11, 61, 113, 24, 15, 51, 571, 11, 4, 22, 5, 4, 326, 7, 4, 22, 26, 24, 629, 195, 21, 51, 210, 188, 72, 16, 21849, 2726, 116, 118, 189, 22, 126, 164, 70, 126, 30, 14, 629, 174, 2195, 829, 33, 94, 61124]\n"
          ]
        }
      ]
    },
    {
      "cell_type": "code",
      "source": [
        "review_len_train = []\n",
        "review_len_test = []\n",
        "for i,j in zip(X_train,X_test):\n",
        "    review_len_train.append(len(i))\n",
        "    review_len_test.append(len(j))"
      ],
      "metadata": {
        "id": "7IbfPR6e69-h"
      },
      "execution_count": null,
      "outputs": []
    },
    {
      "cell_type": "code",
      "source": [
        "print(\"min: \", min(review_len_train), \"max: \", max(review_len_train))"
      ],
      "metadata": {
        "colab": {
          "base_uri": "https://localhost:8080/"
        },
        "id": "wUj0RLEr7DTB",
        "outputId": "10c4a7ce-bce9-4220-cd2d-58e89f861333"
      },
      "execution_count": null,
      "outputs": [
        {
          "output_type": "stream",
          "name": "stdout",
          "text": [
            "min:  11 max:  2494\n"
          ]
        }
      ]
    },
    {
      "cell_type": "code",
      "source": [
        "print(\"min: \", min(review_len_test), \"max: \", max(review_len_test))"
      ],
      "metadata": {
        "colab": {
          "base_uri": "https://localhost:8080/"
        },
        "id": "VTC2Oldj7H2W",
        "outputId": "0b23b54a-c9d2-4243-bd36-6f8e002c0ddd"
      },
      "execution_count": null,
      "outputs": [
        {
          "output_type": "stream",
          "name": "stdout",
          "text": [
            "min:  7 max:  2315\n"
          ]
        }
      ]
    },
    {
      "cell_type": "code",
      "source": [
        "sns.distplot(review_len_train,hist_kws={\"alpha\":0.3});\n",
        "sns.distplot(review_len_test,hist_kws={\"alpha\":0.3});"
      ],
      "metadata": {
        "colab": {
          "base_uri": "https://localhost:8080/",
          "height": 354
        },
        "id": "6oomMmv_7LFX",
        "outputId": "1d4508f8-8364-448b-97e6-4031cfdd4705"
      },
      "execution_count": null,
      "outputs": [
        {
          "output_type": "stream",
          "name": "stderr",
          "text": [
            "/usr/local/lib/python3.7/dist-packages/seaborn/distributions.py:2619: FutureWarning: `distplot` is a deprecated function and will be removed in a future version. Please adapt your code to use either `displot` (a figure-level function with similar flexibility) or `histplot` (an axes-level function for histograms).\n",
            "  warnings.warn(msg, FutureWarning)\n",
            "/usr/local/lib/python3.7/dist-packages/seaborn/distributions.py:2619: FutureWarning: `distplot` is a deprecated function and will be removed in a future version. Please adapt your code to use either `displot` (a figure-level function with similar flexibility) or `histplot` (an axes-level function for histograms).\n",
            "  warnings.warn(msg, FutureWarning)\n"
          ]
        },
        {
          "output_type": "display_data",
          "data": {
            "text/plain": [
              "<Figure size 432x288 with 1 Axes>"
            ],
            "image/png": "[encoded data removed]"
          },
          "metadata": {
            "needs_background": "light"
          }
        }
      ]
    },
    {
      "cell_type": "code",
      "source": [
        "print(\"Train mean: \",np.mean(review_len_train))\n",
        "print(\"Train median: \",np.median(review_len_train))\n",
        "print(\"Train mode: \",stats.mode(review_len_train))"
      ],
      "metadata": {
        "colab": {
          "base_uri": "https://localhost:8080/"
        },
        "id": "8NdCRVUI7RvD",
        "outputId": "618fe881-be7c-4ea9-ee1a-ed2cf2a15b5e"
      },
      "execution_count": null,
      "outputs": [
        {
          "output_type": "stream",
          "name": "stdout",
          "text": [
            "Train mean:  238.71364\n",
            "Train median:  178.0\n",
            "Train mode:  ModeResult(mode=array([132]), count=array([196]))\n"
          ]
        }
      ]
    },
    {
      "cell_type": "markdown",
      "source": [
        "***No of words***"
      ],
      "metadata": {
        "id": "Hhra7rqK7X4b"
      }
    },
    {
      "cell_type": "code",
      "source": [
        "word_index = imdb.get_word_index()\n",
        "print(type(word_index))"
      ],
      "metadata": {
        "colab": {
          "base_uri": "https://localhost:8080/"
        },
        "id": "vT_Eu0Ad7XO8",
        "outputId": "40b5e3a3-37cc-4320-f23e-8bcb5ada4ec7"
      },
      "execution_count": null,
      "outputs": [
        {
          "output_type": "stream",
          "name": "stdout",
          "text": [
            "Downloading data from https://storage.googleapis.com/tensorflow/tf-keras-datasets/imdb_word_index.json\n",
            "1646592/1641221 [==============================] - 0s 0us/step\n",
            "1654784/1641221 [==============================] - 0s 0us/step\n",
            "<class 'dict'>\n"
          ]
        }
      ]
    },
    {
      "cell_type": "code",
      "source": [
        "print(\"length of word_index: \",len(word_index))"
      ],
      "metadata": {
        "colab": {
          "base_uri": "https://localhost:8080/"
        },
        "id": "scPMWwVk7ga6",
        "outputId": "eca10416-2a1d-4caa-fbab-c006f1568c8c"
      },
      "execution_count": null,
      "outputs": [
        {
          "output_type": "stream",
          "name": "stdout",
          "text": [
            "length of word_index:  88584\n"
          ]
        }
      ]
    },
    {
      "cell_type": "code",
      "source": [
        "for keys,values in word_index.items():\n",
        "    if values == 1:\n",
        "        print(keys)"
      ],
      "metadata": {
        "colab": {
          "base_uri": "https://localhost:8080/"
        },
        "id": "LNKFY1jO7qOL",
        "outputId": "940ad78d-0dc8-48cb-e1ed-5fb650878dbc"
      },
      "execution_count": null,
      "outputs": [
        {
          "output_type": "stream",
          "name": "stdout",
          "text": [
            "the\n"
          ]
        }
      ]
    },
    {
      "cell_type": "code",
      "source": [
        "def whatItSay(index=24):\n",
        "    reverse_index = dict([(value,key) for (key,value) in word_index.items()])\n",
        "    decode_review = \" \".join([reverse_index.get(i-3, \"!\") for i in X_train[index]])\n",
        "    print(decode_review)\n",
        "    print(Y_train[index])\n",
        "    return decode_review\n",
        "\n",
        "decoded_review = whatItSay()"
      ],
      "metadata": {
        "colab": {
          "base_uri": "https://localhost:8080/"
        },
        "id": "XVJ1zOvu7v8i",
        "outputId": "f738845b-3cb1-4e48-8fc0-675775bf3bee"
      },
      "execution_count": null,
      "outputs": [
        {
          "output_type": "stream",
          "name": "stdout",
          "text": [
            "! this movie was extremely funny i would like to own this for my vintage collection of 1970s movie must see again list i know this cast of characters they are people that i have met over the years and that prompt me to search out this comedy unfortunately this was never put to dvd or vhs redd foxx always a clown of comedy pearl baily a great match as his wife witty and sassy norman a son with a secret not sure if he will have a future if it is out dennis dugan crazy funny man miss dobson hooker with a heart and little conscience love lust strange family ties this movie qualifies for a come back encore performance situation comedy with a mix of events as this could and should find its way as a remake i do think finding cast would be extremely difficult maybe impossible except jerry seinfeld playing dennis dugan role this earmarks a couple of seinfeld episodes that also brought me back to norman is that you keeping them in the closest was surely impossible as impossible to reform pretend hooker girl friend and infidelity of a parent this movie was a wild ride advise of a cabbie remind me of episode kramer takes advice of his caddie over his lawyer episode from seinfeld the parents have there jaw dropping moment fun over fun it is screaming bring me back\n",
            "1\n"
          ]
        }
      ]
    },
    {
      "cell_type": "code",
      "source": [
        "decoded_review = whatItSay(5)"
      ],
      "metadata": {
        "colab": {
          "base_uri": "https://localhost:8080/"
        },
        "id": "slDdHxVW70cw",
        "outputId": "c41fb35f-4959-4212-a6ce-2be83dddbfe9"
      },
      "execution_count": null,
      "outputs": [
        {
          "output_type": "stream",
          "name": "stdout",
          "text": [
            "! quite possibly how francis veber one of the best comedy directors in the world at least when sticking to his native france managed to turn in a film so completely unwatchable is beyond the reason of mere mortal man to discern it's not just that the characters are so unlikeable or that the film is so utterly devoid of even the lowest form of wit it's genuinely physically painful to watch such an endless parade of inept writing acting and film making that you cannot believe this is the work of experienced and talented filmmakers for once the near eternity spent in the cutting room and on the shelf before its blink and you'll miss it theatrical release tells the whole story what were they thinking\n",
            "0\n"
          ]
        }
      ]
    },
    {
      "cell_type": "markdown",
      "source": [
        "***Preprocess***"
      ],
      "metadata": {
        "id": "bt0LV6Ct76mv"
      }
    },
    {
      "cell_type": "code",
      "source": [
        "num_words = 20000\n",
        "(X_train,Y_train),(X_test,Y_test) = imdb.load_data(num_words=num_words)"
      ],
      "metadata": {
        "id": "vB65rJ0r7-Br"
      },
      "execution_count": null,
      "outputs": []
    },
    {
      "cell_type": "code",
      "source": [
        "maxlen=80\n",
        "X_train = pad_sequences(X_train, maxlen=maxlen)\n",
        "X_test = pad_sequences(X_test, maxlen=maxlen)"
      ],
      "metadata": {
        "id": "kqx5xYL58I2I"
      },
      "execution_count": null,
      "outputs": []
    },
    {
      "cell_type": "code",
      "source": [
        "print(\"X train shape: \",X_train.shape)"
      ],
      "metadata": {
        "colab": {
          "base_uri": "https://localhost:8080/"
        },
        "id": "L9hk_JDY8km7",
        "outputId": "a0e0b382-716f-4c2e-e15a-c6bd67e7c94f"
      },
      "execution_count": null,
      "outputs": [
        {
          "output_type": "stream",
          "name": "stdout",
          "text": [
            "X train shape:  (25000, 80)\n"
          ]
        }
      ]
    },
    {
      "cell_type": "code",
      "source": [
        "print(X_train[5])"
      ],
      "metadata": {
        "colab": {
          "base_uri": "https://localhost:8080/"
        },
        "id": "txQPxMi98nzv",
        "outputId": "5b5635c1-7a28-4fee-a50e-2bab55427cc8"
      },
      "execution_count": null,
      "outputs": [
        {
          "output_type": "stream",
          "name": "stdout",
          "text": [
            "[    0     0     0     0     0     0     0     0     0     0     0     0\n",
            "     0     0     0     0     0     0     0     0     0     0     0     0\n",
            "     0     0     0     0     0     0     0     0     0     0     0     0\n",
            "     0     1   778   128    74    12   630   163    15     4  1766  7982\n",
            "  1051     2    32    85   156    45    40   148   139   121   664   665\n",
            "    10    10  1361   173     4   749     2    16  3804     8     4   226\n",
            "    65    12    43   127    24 15344    10    10]\n"
          ]
        }
      ]
    },
    {
      "cell_type": "code",
      "source": [
        "for i in X_train[0:10]:\n",
        "    print(len(i))"
      ],
      "metadata": {
        "colab": {
          "base_uri": "https://localhost:8080/"
        },
        "id": "rKwVIguX8rYs",
        "outputId": "1db13ac5-fe09-493a-d2e4-97f74ada0525"
      },
      "execution_count": null,
      "outputs": [
        {
          "output_type": "stream",
          "name": "stdout",
          "text": [
            "80\n",
            "80\n",
            "80\n",
            "80\n",
            "80\n",
            "80\n",
            "80\n",
            "80\n",
            "80\n",
            "80\n"
          ]
        }
      ]
    },
    {
      "cell_type": "code",
      "source": [
        "decoded_review = whatItSay(5)"
      ],
      "metadata": {
        "colab": {
          "base_uri": "https://localhost:8080/"
        },
        "id": "ZBJ4hIVb8v1q",
        "outputId": "360dba0a-19c5-4c9d-8878-71fa46b7aeb5"
      },
      "execution_count": null,
      "outputs": [
        {
          "output_type": "stream",
          "name": "stdout",
          "text": [
            "! ! ! ! ! ! ! ! ! ! ! ! ! ! ! ! ! ! ! ! ! ! ! ! ! ! ! ! ! ! ! ! ! ! ! ! ! ! begins better than it ends funny that the russian submarine crew ! all other actors it's like those scenes where documentary shots br br spoiler part the message ! was contrary to the whole story it just does not mesh br br\n",
            "0\n"
          ]
        }
      ]
    },
    {
      "cell_type": "markdown",
      "source": [
        "***RNN model 1***"
      ],
      "metadata": {
        "id": "Tm4TIESz8ylo"
      }
    },
    {
      "cell_type": "code",
      "source": [
        "rnn = Sequential()\n",
        "\n",
        "rnn.add(Embedding(num_words,32,input_length =len(X_train[0]))) # num_words=15000\n",
        "rnn.add(SimpleRNN(16,input_shape = (num_words,maxlen), return_sequences=False,activation=\"relu\"))\n",
        "rnn.add(Dense(1)) #flatten\n",
        "rnn.add(Activation(\"sigmoid\")) #using sigmoid for binary classification\n",
        "\n",
        "print(rnn.summary())\n",
        "rnn.compile(loss=\"binary_crossentropy\",optimizer=\"rmsprop\",metrics=[\"accuracy\"])"
      ],
      "metadata": {
        "colab": {
          "base_uri": "https://localhost:8080/"
        },
        "id": "LYUQNWCn81HA",
        "outputId": "606d1d5f-f5e7-4aa1-918d-9ea5788957bb"
      },
      "execution_count": null,
      "outputs": [
        {
          "output_type": "stream",
          "name": "stdout",
          "text": [
            "Model: \"sequential\"\n",
            "_________________________________________________________________\n",
            " Layer (type)                Output Shape              Param #   \n",
            "=================================================================\n",
            " embedding (Embedding)       (None, 80, 32)            640000    \n",
            "                                                                 \n",
            " simple_rnn (SimpleRNN)      (None, 16)                784       \n",
            "                                                                 \n",
            " dense (Dense)               (None, 1)                 17        \n",
            "                                                                 \n",
            " activation (Activation)     (None, 1)                 0         \n",
            "                                                                 \n",
            "=================================================================\n",
            "Total params: 640,801\n",
            "Trainable params: 640,801\n",
            "Non-trainable params: 0\n",
            "_________________________________________________________________\n",
            "None\n"
          ]
        }
      ]
    },
    {
      "cell_type": "code",
      "source": [
        "history = rnn.fit(X_train,Y_train,validation_data = (X_test,Y_test),epochs = 5,batch_size=128,verbose = 1)"
      ],
      "metadata": {
        "colab": {
          "base_uri": "https://localhost:8080/"
        },
        "id": "Sow7343f88IW",
        "outputId": "d08efb33-1db1-49d6-d088-976c16c96b2e"
      },
      "execution_count": null,
      "outputs": [
        {
          "output_type": "stream",
          "name": "stdout",
          "text": [
            "Epoch 1/5\n",
            "196/196 [==============================] - 11s 45ms/step - loss: 0.6170 - accuracy: 0.6732 - val_loss: 0.4849 - val_accuracy: 0.8027\n",
            "Epoch 2/5\n",
            "196/196 [==============================] - 8s 40ms/step - loss: 0.4157 - accuracy: 0.8190 - val_loss: 0.5237 - val_accuracy: 0.7833\n",
            "Epoch 3/5\n",
            "196/196 [==============================] - 8s 39ms/step - loss: 0.3214 - accuracy: 0.8662 - val_loss: 0.3975 - val_accuracy: 0.8313\n",
            "Epoch 4/5\n",
            "196/196 [==============================] - 8s 40ms/step - loss: 0.2660 - accuracy: 0.8906 - val_loss: 0.3721 - val_accuracy: 0.8370\n",
            "Epoch 5/5\n",
            "196/196 [==============================] - 8s 40ms/step - loss: 0.2274 - accuracy: 0.9071 - val_loss: 0.3790 - val_accuracy: 0.8392\n"
          ]
        }
      ]
    },
    {
      "cell_type": "markdown",
      "source": [
        "***Accuracy***"
      ],
      "metadata": {
        "id": "-rXynobhBQ1s"
      }
    },
    {
      "cell_type": "code",
      "source": [
        "score = rnn.evaluate(X_test,Y_test)"
      ],
      "metadata": {
        "colab": {
          "base_uri": "https://localhost:8080/"
        },
        "id": "D-ONaIE_9cgq",
        "outputId": "8388034d-3e17-4a29-d028-26a2026629b9"
      },
      "execution_count": null,
      "outputs": [
        {
          "output_type": "stream",
          "name": "stdout",
          "text": [
            "782/782 [==============================] - 6s 8ms/step - loss: 0.3790 - accuracy: 0.8392\n"
          ]
        }
      ]
    },
    {
      "cell_type": "code",
      "source": [
        "print(\"accuracy:\", score[1]*100)"
      ],
      "metadata": {
        "colab": {
          "base_uri": "https://localhost:8080/"
        },
        "id": "-94nUZ_-9gxJ",
        "outputId": "b8496281-5aaf-4521-cb13-a3c4f651a2f0"
      },
      "execution_count": null,
      "outputs": [
        {
          "output_type": "stream",
          "name": "stdout",
          "text": [
            "accuracy: 83.91600251197815\n"
          ]
        }
      ]
    },
    {
      "cell_type": "code",
      "source": [
        "plt.figure()\n",
        "plt.plot(history.history[\"accuracy\"],label=\"Train\");\n",
        "plt.plot(history.history[\"val_accuracy\"],label=\"Test\");\n",
        "plt.title(\"Accuracy\")\n",
        "plt.ylabel(\"Accuracy\")\n",
        "plt.xlabel(\"Epochs\")\n",
        "plt.legend()\n",
        "plt.show();"
      ],
      "metadata": {
        "colab": {
          "base_uri": "https://localhost:8080/",
          "height": 295
        },
        "id": "C29GC8Do9mHz",
        "outputId": "18e13257-baee-4ae7-ffa9-451686191f25"
      },
      "execution_count": null,
      "outputs": [
        {
          "output_type": "display_data",
          "data": {
            "text/plain": [
              "<Figure size 432x288 with 1 Axes>"
            ],
            "image/png": "[encoded data removed]"
          },
          "metadata": {
            "needs_background": "light"
          }
        }
      ]
    },
    {
      "cell_type": "code",
      "source": [
        "plt.figure()\n",
        "plt.plot(history.history[\"loss\"],label=\"Train\");\n",
        "plt.plot(history.history[\"val_loss\"],label=\"Test\");\n",
        "plt.title(\"Loss\")\n",
        "plt.ylabel(\"Loss\")\n",
        "plt.xlabel(\"Epochs\")\n",
        "plt.legend()\n",
        "plt.show();"
      ],
      "metadata": {
        "colab": {
          "base_uri": "https://localhost:8080/",
          "height": 295
        },
        "id": "GvN20fm_9pym",
        "outputId": "f38d6f0a-54d3-4cf9-da98-ff52ff506fd7"
      },
      "execution_count": null,
      "outputs": [
        {
          "output_type": "display_data",
          "data": {
            "text/plain": [
              "<Figure size 432x288 with 1 Axes>"
            ],
            "image/png": "[encoded data removed]"
          },
          "metadata": {
            "needs_background": "light"
          }
        }
      ]
    },
    {
      "cell_type": "markdown",
      "source": [
        "***Different max_features and max_len***"
      ],
      "metadata": {
        "id": "HnCFErKX-xNt"
      }
    },
    {
      "cell_type": "code",
      "source": [
        "num_words = 30000\n",
        "(X_train,Y_train),(X_test,Y_test) = imdb.load_data(num_words=num_words)"
      ],
      "metadata": {
        "id": "H-2Sss-z_OXs"
      },
      "execution_count": null,
      "outputs": []
    },
    {
      "cell_type": "code",
      "source": [
        "maxlen=130\n",
        "X_train = pad_sequences(X_train, maxlen=maxlen)\n",
        "X_test = pad_sequences(X_test, maxlen=maxlen)"
      ],
      "metadata": {
        "id": "OHY0NoVQ_OXs"
      },
      "execution_count": null,
      "outputs": []
    },
    {
      "cell_type": "code",
      "source": [
        "print(\"X train shape: \",X_train.shape)"
      ],
      "metadata": {
        "colab": {
          "base_uri": "https://localhost:8080/"
        },
        "outputId": "25928788-9dd5-4af7-8768-9dab59012d04",
        "id": "AQ-h2QCA_OXs"
      },
      "execution_count": null,
      "outputs": [
        {
          "output_type": "stream",
          "name": "stdout",
          "text": [
            "X train shape:  (25000, 130)\n"
          ]
        }
      ]
    },
    {
      "cell_type": "code",
      "source": [
        "print(X_train[5])"
      ],
      "metadata": {
        "colab": {
          "base_uri": "https://localhost:8080/"
        },
        "outputId": "907049dd-1da9-4c7a-f337-0fbb1f715da8",
        "id": "YGwfv-Ed_OXt"
      },
      "execution_count": null,
      "outputs": [
        {
          "output_type": "stream",
          "name": "stdout",
          "text": [
            "[    0     0     0     0     0     0     0     0     0     0     0     0\n",
            "     0     0     0     0     0     0     0     0     0     0     0     0\n",
            "     0     0     0     0     0     0     0     0     0     0     0     0\n",
            "     0     0     0     0     0     0     0     0     0     0     0     0\n",
            "     0     0     0     0     0     0     0     0     0     0     0     0\n",
            "     0     0     0     0     0     0     0     0     0     0     0     0\n",
            "     0     0     0     0     0     0     0     0     0     0     0     0\n",
            "     0     0     0     1   778   128    74    12   630   163    15     4\n",
            "  1766  7982  1051     2    32    85   156    45    40   148   139   121\n",
            "   664   665    10    10  1361   173     4   749     2    16  3804     8\n",
            "     4   226    65    12    43   127    24 15344    10    10]\n"
          ]
        }
      ]
    },
    {
      "cell_type": "code",
      "source": [
        "for i in X_train[0:10]:\n",
        "    print(len(i))"
      ],
      "metadata": {
        "colab": {
          "base_uri": "https://localhost:8080/"
        },
        "outputId": "8d7d25da-79d7-421a-b812-50526be0450f",
        "id": "wEONYbOE_OXt"
      },
      "execution_count": null,
      "outputs": [
        {
          "output_type": "stream",
          "name": "stdout",
          "text": [
            "130\n",
            "130\n",
            "130\n",
            "130\n",
            "130\n",
            "130\n",
            "130\n",
            "130\n",
            "130\n",
            "130\n"
          ]
        }
      ]
    },
    {
      "cell_type": "code",
      "source": [
        "decoded_review = whatItSay(5)"
      ],
      "metadata": {
        "colab": {
          "base_uri": "https://localhost:8080/"
        },
        "outputId": "8bcd8895-0aca-4a0f-f837-6a26e859de52",
        "id": "ITeeo1nO_OXt"
      },
      "execution_count": null,
      "outputs": [
        {
          "output_type": "stream",
          "name": "stdout",
          "text": [
            "! ! ! ! ! ! ! ! ! ! ! ! ! ! ! ! ! ! ! ! ! ! ! ! ! ! ! ! ! ! ! ! ! ! ! ! ! ! ! ! ! ! ! ! ! ! ! ! ! ! ! ! ! ! ! ! ! ! ! ! ! ! ! ! ! ! ! ! ! ! ! ! ! ! ! ! ! ! ! ! ! ! ! ! ! ! ! ! begins better than it ends funny that the russian submarine crew ! all other actors it's like those scenes where documentary shots br br spoiler part the message ! was contrary to the whole story it just does not mesh br br\n",
            "0\n"
          ]
        }
      ]
    },
    {
      "cell_type": "markdown",
      "source": [
        "***RNN model 2***"
      ],
      "metadata": {
        "id": "CQ-i1ClhBGv7"
      }
    },
    {
      "cell_type": "code",
      "source": [
        "rnn = Sequential()\n",
        "\n",
        "rnn.add(Embedding(num_words,32,input_length =len(X_train[0]))) # num_words=15000\n",
        "rnn.add(SimpleRNN(16,input_shape = (num_words,maxlen), return_sequences=False,activation=\"relu\"))\n",
        "rnn.add(Dense(1)) #flatten\n",
        "rnn.add(Activation(\"sigmoid\")) #using sigmoid for binary classification\n",
        "\n",
        "print(rnn.summary())\n",
        "rnn.compile(loss=\"binary_crossentropy\",optimizer=\"rmsprop\",metrics=[\"accuracy\"])"
      ],
      "metadata": {
        "colab": {
          "base_uri": "https://localhost:8080/"
        },
        "outputId": "f97668e5-7738-472e-818e-9a2f3d79c175",
        "id": "Uy1gDUka_9La"
      },
      "execution_count": null,
      "outputs": [
        {
          "output_type": "stream",
          "name": "stdout",
          "text": [
            "Model: \"sequential_1\"\n",
            "_________________________________________________________________\n",
            " Layer (type)                Output Shape              Param #   \n",
            "=================================================================\n",
            " embedding_1 (Embedding)     (None, 130, 32)           960000    \n",
            "                                                                 \n",
            " simple_rnn_1 (SimpleRNN)    (None, 16)                784       \n",
            "                                                                 \n",
            " dense_1 (Dense)             (None, 1)                 17        \n",
            "                                                                 \n",
            " activation_1 (Activation)   (None, 1)                 0         \n",
            "                                                                 \n",
            "=================================================================\n",
            "Total params: 960,801\n",
            "Trainable params: 960,801\n",
            "Non-trainable params: 0\n",
            "_________________________________________________________________\n",
            "None\n"
          ]
        }
      ]
    },
    {
      "cell_type": "code",
      "source": [
        "history = rnn.fit(X_train,Y_train,validation_data = (X_test,Y_test),epochs = 5,batch_size=128,verbose = 1)"
      ],
      "metadata": {
        "colab": {
          "base_uri": "https://localhost:8080/"
        },
        "outputId": "12e7608f-4ea8-4e85-c59f-894a7d3e8920",
        "id": "j98aDWGL_9Lb"
      },
      "execution_count": null,
      "outputs": [
        {
          "output_type": "stream",
          "name": "stdout",
          "text": [
            "Epoch 1/5\n",
            "196/196 [==============================] - 14s 62ms/step - loss: 0.6280 - accuracy: 0.6546 - val_loss: 0.4950 - val_accuracy: 0.7997\n",
            "Epoch 2/5\n",
            "196/196 [==============================] - 12s 62ms/step - loss: 0.4457 - accuracy: 0.8300 - val_loss: 0.4130 - val_accuracy: 0.8314\n",
            "Epoch 3/5\n",
            "196/196 [==============================] - 13s 64ms/step - loss: 0.3465 - accuracy: 0.8662 - val_loss: 0.4199 - val_accuracy: 0.8186\n",
            "Epoch 4/5\n",
            "196/196 [==============================] - 13s 68ms/step - loss: 0.2784 - accuracy: 0.8917 - val_loss: 0.3403 - val_accuracy: 0.8515\n",
            "Epoch 5/5\n",
            "196/196 [==============================] - 12s 62ms/step - loss: 0.2238 - accuracy: 0.9132 - val_loss: 0.3446 - val_accuracy: 0.8510\n"
          ]
        }
      ]
    },
    {
      "cell_type": "markdown",
      "source": [
        "***Accuracy***"
      ],
      "metadata": {
        "id": "bcZ7FPwhBW2x"
      }
    },
    {
      "cell_type": "code",
      "source": [
        "score = rnn.evaluate(X_test,Y_test)"
      ],
      "metadata": {
        "colab": {
          "base_uri": "https://localhost:8080/"
        },
        "outputId": "1daf5610-43cc-49a2-b703-dc17174f6566",
        "id": "U-HM6sx1_9Lc"
      },
      "execution_count": null,
      "outputs": [
        {
          "output_type": "stream",
          "name": "stdout",
          "text": [
            "782/782 [==============================] - 9s 11ms/step - loss: 0.3446 - accuracy: 0.8510\n"
          ]
        }
      ]
    },
    {
      "cell_type": "code",
      "source": [
        "print(\"accuracy:\", score[1]*100)"
      ],
      "metadata": {
        "colab": {
          "base_uri": "https://localhost:8080/"
        },
        "outputId": "cc9de46d-eb35-4a79-a077-ade9ebe22614",
        "id": "yT1Vi1Ic_9Lc"
      },
      "execution_count": null,
      "outputs": [
        {
          "output_type": "stream",
          "name": "stdout",
          "text": [
            "accuracy: 85.09600162506104\n"
          ]
        }
      ]
    },
    {
      "cell_type": "code",
      "source": [
        "plt.figure()\n",
        "plt.plot(history.history[\"accuracy\"],label=\"Train\");\n",
        "plt.plot(history.history[\"val_accuracy\"],label=\"Test\");\n",
        "plt.title(\"Accuracy\")\n",
        "plt.ylabel(\"Accuracy\")\n",
        "plt.xlabel(\"Epochs\")\n",
        "plt.legend()\n",
        "plt.show();"
      ],
      "metadata": {
        "colab": {
          "base_uri": "https://localhost:8080/",
          "height": 295
        },
        "outputId": "01af061e-1576-4f17-82b7-1c5212e9ab99",
        "id": "qir4NShg_9Ld"
      },
      "execution_count": null,
      "outputs": [
        {
          "output_type": "display_data",
          "data": {
            "text/plain": [
              "<Figure size 432x288 with 1 Axes>"
            ],
            "image/png": "[encoded data removed]"
          },
          "metadata": {
            "needs_background": "light"
          }
        }
      ]
    },
    {
      "cell_type": "code",
      "source": [
        "plt.figure()\n",
        "plt.plot(history.history[\"loss\"],label=\"Train\");\n",
        "plt.plot(history.history[\"val_loss\"],label=\"Test\");\n",
        "plt.title(\"Loss\")\n",
        "plt.ylabel(\"Loss\")\n",
        "plt.xlabel(\"Epochs\")\n",
        "plt.legend()\n",
        "plt.show();"
      ],
      "metadata": {
        "colab": {
          "base_uri": "https://localhost:8080/",
          "height": 295
        },
        "outputId": "1265ae92-d5ef-4ab2-ce32-d4c19e634bc7",
        "id": "Y_aoG4-X_9Le"
      },
      "execution_count": null,
      "outputs": [
        {
          "output_type": "display_data",
          "data": {
            "text/plain": [
              "<Figure size 432x288 with 1 Axes>"
            ],
            "image/png": "[encoded data removed]"
          },
          "metadata": {
            "needs_background": "light"
          }
        }
      ]
    },
    {
      "cell_type": "markdown",
      "source": [
        "***2nd different***"
      ],
      "metadata": {
        "id": "8vOwQ9qGAu06"
      }
    },
    {
      "cell_type": "code",
      "source": [
        "num_words = 40000\n",
        "(X_train,Y_train),(X_test,Y_test) = imdb.load_data(num_words=num_words)"
      ],
      "metadata": {
        "id": "5dtUMiF9Ay10"
      },
      "execution_count": null,
      "outputs": []
    },
    {
      "cell_type": "code",
      "source": [
        "maxlen=180\n",
        "X_train = pad_sequences(X_train, maxlen=maxlen)\n",
        "X_test = pad_sequences(X_test, maxlen=maxlen)"
      ],
      "metadata": {
        "id": "yxXyW2ToAy11"
      },
      "execution_count": null,
      "outputs": []
    },
    {
      "cell_type": "code",
      "source": [
        "print(\"X train shape: \",X_train.shape)"
      ],
      "metadata": {
        "colab": {
          "base_uri": "https://localhost:8080/"
        },
        "outputId": "0d93e1d4-1930-41f0-ea8d-63a92ca943c3",
        "id": "NqszrILnAy11"
      },
      "execution_count": null,
      "outputs": [
        {
          "output_type": "stream",
          "name": "stdout",
          "text": [
            "X train shape:  (25000, 180)\n"
          ]
        }
      ]
    },
    {
      "cell_type": "code",
      "source": [
        "print(X_train[5])"
      ],
      "metadata": {
        "colab": {
          "base_uri": "https://localhost:8080/"
        },
        "outputId": "7a4d9ad9-be54-4cea-c811-5cb53d369d3f",
        "id": "YRsd5RipAy12"
      },
      "execution_count": null,
      "outputs": [
        {
          "output_type": "stream",
          "name": "stdout",
          "text": [
            "[    0     0     0     0     0     0     0     0     0     0     0     0\n",
            "     0     0     0     0     0     0     0     0     0     0     0     0\n",
            "     0     0     0     0     0     0     0     0     0     0     0     0\n",
            "     0     0     0     0     0     0     0     0     0     0     0     0\n",
            "     0     0     0     0     0     0     0     0     0     0     0     0\n",
            "     0     0     0     0     0     0     0     0     0     0     0     0\n",
            "     0     0     0     0     0     0     0     0     0     0     0     0\n",
            "     0     0     0     0     0     0     0     0     0     0     0     0\n",
            "     0     0     0     0     0     0     0     0     0     0     0     0\n",
            "     0     0     0     0     0     0     0     0     0     0     0     0\n",
            "     0     0     0     0     0     0     0     0     0     0     0     0\n",
            "     0     0     0     0     0     1   778   128    74    12   630   163\n",
            "    15     4  1766  7982  1051     2    32    85   156    45    40   148\n",
            "   139   121   664   665    10    10  1361   173     4   749     2    16\n",
            "  3804     8     4   226    65    12    43   127    24 15344    10    10]\n"
          ]
        }
      ]
    },
    {
      "cell_type": "code",
      "source": [
        "for i in X_train[0:10]:\n",
        "    print(len(i))"
      ],
      "metadata": {
        "colab": {
          "base_uri": "https://localhost:8080/"
        },
        "outputId": "97fddf96-0a1e-45b2-dafb-7013eb32ba54",
        "id": "FuUoD3DYAy14"
      },
      "execution_count": null,
      "outputs": [
        {
          "output_type": "stream",
          "name": "stdout",
          "text": [
            "180\n",
            "180\n",
            "180\n",
            "180\n",
            "180\n",
            "180\n",
            "180\n",
            "180\n",
            "180\n",
            "180\n"
          ]
        }
      ]
    },
    {
      "cell_type": "code",
      "source": [
        "decoded_review = whatItSay(5)"
      ],
      "metadata": {
        "colab": {
          "base_uri": "https://localhost:8080/"
        },
        "outputId": "4a4ead13-59e6-4aa4-8735-14a9354e4092",
        "id": "NxvDYQkFAy15"
      },
      "execution_count": null,
      "outputs": [
        {
          "output_type": "stream",
          "name": "stdout",
          "text": [
            "! ! ! ! ! ! ! ! ! ! ! ! ! ! ! ! ! ! ! ! ! ! ! ! ! ! ! ! ! ! ! ! ! ! ! ! ! ! ! ! ! ! ! ! ! ! ! ! ! ! ! ! ! ! ! ! ! ! ! ! ! ! ! ! ! ! ! ! ! ! ! ! ! ! ! ! ! ! ! ! ! ! ! ! ! ! ! ! ! ! ! ! ! ! ! ! ! ! ! ! ! ! ! ! ! ! ! ! ! ! ! ! ! ! ! ! ! ! ! ! ! ! ! ! ! ! ! ! ! ! ! ! ! ! ! ! ! ! begins better than it ends funny that the russian submarine crew ! all other actors it's like those scenes where documentary shots br br spoiler part the message ! was contrary to the whole story it just does not mesh br br\n",
            "0\n"
          ]
        }
      ]
    },
    {
      "cell_type": "markdown",
      "source": [
        "***RNN model 3***"
      ],
      "metadata": {
        "id": "kBD95_SFA_tF"
      }
    },
    {
      "cell_type": "code",
      "source": [
        "rnn = Sequential()\n",
        "\n",
        "rnn.add(Embedding(num_words,32,input_length =len(X_train[0]))) # num_words=15000\n",
        "rnn.add(SimpleRNN(16,input_shape = (num_words,maxlen), return_sequences=False,activation=\"relu\"))\n",
        "rnn.add(Dense(1)) #flatten\n",
        "rnn.add(Activation(\"sigmoid\")) #using sigmoid for binary classification\n",
        "\n",
        "print(rnn.summary())\n",
        "rnn.compile(loss=\"binary_crossentropy\",optimizer=\"rmsprop\",metrics=[\"accuracy\"])"
      ],
      "metadata": {
        "colab": {
          "base_uri": "https://localhost:8080/"
        },
        "outputId": "af17a5d5-76c4-4279-f159-afb3c4161c64",
        "id": "ovM6BMzyAy15"
      },
      "execution_count": null,
      "outputs": [
        {
          "output_type": "stream",
          "name": "stdout",
          "text": [
            "Model: \"sequential_2\"\n",
            "_________________________________________________________________\n",
            " Layer (type)                Output Shape              Param #   \n",
            "=================================================================\n",
            " embedding_2 (Embedding)     (None, 180, 32)           1280000   \n",
            "                                                                 \n",
            " simple_rnn_2 (SimpleRNN)    (None, 16)                784       \n",
            "                                                                 \n",
            " dense_2 (Dense)             (None, 1)                 17        \n",
            "                                                                 \n",
            " activation_2 (Activation)   (None, 1)                 0         \n",
            "                                                                 \n",
            "=================================================================\n",
            "Total params: 1,280,801\n",
            "Trainable params: 1,280,801\n",
            "Non-trainable params: 0\n",
            "_________________________________________________________________\n",
            "None\n"
          ]
        }
      ]
    },
    {
      "cell_type": "code",
      "source": [
        "history = rnn.fit(X_train,Y_train,validation_data = (X_test,Y_test),epochs = 5,batch_size=128,verbose = 1)"
      ],
      "metadata": {
        "colab": {
          "base_uri": "https://localhost:8080/"
        },
        "outputId": "1fe2e4cd-beb0-4f3f-8301-f688eaf088aa",
        "id": "94UVlKzuAy16"
      },
      "execution_count": null,
      "outputs": [
        {
          "output_type": "stream",
          "name": "stdout",
          "text": [
            "Epoch 1/5\n",
            "196/196 [==============================] - 18s 86ms/step - loss: 0.6035 - accuracy: 0.6714 - val_loss: 0.5124 - val_accuracy: 0.8134\n",
            "Epoch 2/5\n",
            "196/196 [==============================] - 16s 81ms/step - loss: 0.4390 - accuracy: 0.8454 - val_loss: 0.4174 - val_accuracy: 0.8397\n",
            "Epoch 3/5\n",
            "196/196 [==============================] - 16s 83ms/step - loss: 0.3339 - accuracy: 0.8733 - val_loss: 0.4941 - val_accuracy: 0.7681\n",
            "Epoch 4/5\n",
            "196/196 [==============================] - 16s 83ms/step - loss: 0.2788 - accuracy: 0.8936 - val_loss: 0.3901 - val_accuracy: 0.8363\n",
            "Epoch 5/5\n",
            "196/196 [==============================] - 16s 83ms/step - loss: 0.2372 - accuracy: 0.9087 - val_loss: 0.4278 - val_accuracy: 0.8171\n"
          ]
        }
      ]
    },
    {
      "cell_type": "markdown",
      "source": [
        "***Accuracy***"
      ],
      "metadata": {
        "id": "FHtN0YAQBh0_"
      }
    },
    {
      "cell_type": "code",
      "source": [
        "score = rnn.evaluate(X_test,Y_test)"
      ],
      "metadata": {
        "colab": {
          "base_uri": "https://localhost:8080/"
        },
        "outputId": "fbc2d931-2a11-49d8-f1d8-0014c03082cc",
        "id": "OFTVL2BqAy16"
      },
      "execution_count": null,
      "outputs": [
        {
          "output_type": "stream",
          "name": "stdout",
          "text": [
            "782/782 [==============================] - 10s 13ms/step - loss: 0.4278 - accuracy: 0.8171\n"
          ]
        }
      ]
    },
    {
      "cell_type": "code",
      "source": [
        "print(\"accuracy:\", score[1]*100)"
      ],
      "metadata": {
        "colab": {
          "base_uri": "https://localhost:8080/"
        },
        "outputId": "73581662-fc76-4c09-a9e1-f469e28a0ced",
        "id": "yM3y9YfbAy16"
      },
      "execution_count": null,
      "outputs": [
        {
          "output_type": "stream",
          "name": "stdout",
          "text": [
            "accuracy: 81.7080020904541\n"
          ]
        }
      ]
    },
    {
      "cell_type": "code",
      "source": [
        "plt.figure()\n",
        "plt.plot(history.history[\"accuracy\"],label=\"Train\");\n",
        "plt.plot(history.history[\"val_accuracy\"],label=\"Test\");\n",
        "plt.title(\"Accuracy\")\n",
        "plt.ylabel(\"Accuracy\")\n",
        "plt.xlabel(\"Epochs\")\n",
        "plt.legend()\n",
        "plt.show();"
      ],
      "metadata": {
        "colab": {
          "base_uri": "https://localhost:8080/",
          "height": 295
        },
        "outputId": "6a9a22eb-8712-426a-d825-1469ba1eaa42",
        "id": "RCj7xaT4Ay16"
      },
      "execution_count": null,
      "outputs": [
        {
          "output_type": "display_data",
          "data": {
            "text/plain": [
              "<Figure size 432x288 with 1 Axes>"
            ],
            "image/png": "[encoded data removed]"
          },
          "metadata": {
            "needs_background": "light"
          }
        }
      ]
    },
    {
      "cell_type": "code",
      "source": [
        "plt.figure()\n",
        "plt.plot(history.history[\"loss\"],label=\"Train\");\n",
        "plt.plot(history.history[\"val_loss\"],label=\"Test\");\n",
        "plt.title(\"Loss\")\n",
        "plt.ylabel(\"Loss\")\n",
        "plt.xlabel(\"Epochs\")\n",
        "plt.legend()\n",
        "plt.show();"
      ],
      "metadata": {
        "colab": {
          "base_uri": "https://localhost:8080/",
          "height": 295
        },
        "outputId": "7aa95748-0846-4a30-de71-9e5cff61fb87",
        "id": "y0xHSRcoAy17"
      },
      "execution_count": null,
      "outputs": [
        {
          "output_type": "display_data",
          "data": {
            "text/plain": [
              "<Figure size 432x288 with 1 Axes>"
            ],
            "image/png": "[encoded data removed]"
          },
          "metadata": {
            "needs_background": "light"
          }
        }
      ]
    },
    {
      "cell_type": "markdown",
      "source": [
        "*As we increased max_features from 20000 to 30000 and max_len from 80 to 130 accuracy increased*\n",
        "\n",
        "*But when further increasing the accuracy decreased*"
      ],
      "metadata": {
        "id": "1kJJ0JnKBrWB"
      }
    }
  ]
}